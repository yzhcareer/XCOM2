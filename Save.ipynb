{
 "cells": [
  {
   "cell_type": "code",
   "execution_count": 1,
   "metadata": {},
   "outputs": [],
   "source": [
    "import os\n",
    "import zlib\n",
    "import pandas as pd\n",
    "import numpy as np\n",
    "import re\n",
    "import lzo"
   ]
  },
  {
   "cell_type": "code",
   "execution_count": 2,
   "metadata": {},
   "outputs": [],
   "source": [
    "Source = r'save_Base1'"
   ]
  },
  {
   "cell_type": "code",
   "execution_count": null,
   "metadata": {},
   "outputs": [],
   "source": []
  },
  {
   "cell_type": "markdown",
   "metadata": {},
   "source": [
    "df.iloc[df[df['inter']%4==1].index - 1]['match'].drop_duplicates()\n",
    "\n",
    "2362                 b'\\r\\x00\\x00\\x00BoolProperty\\x00'\n",
    "5468              b'\\x0e\\x00\\x00\\x00MovesLastTurn\\x00'\n",
    "12346          b'\\x11\\x00\\x00\\x00LastEffectDamage\\x00'\n",
    "19140                b'\\x0b\\x00\\x00\\x00NumEscapes\\x00'\n",
    "19141            b'\\x0f\\x00\\x00\\x00NumAppearances\\x00'\n",
    "19142                b'\\r\\x00\\x00\\x00EscapeHealth\\x00'\n",
    "42007             b'\\x0e\\x00\\x00\\x00RankUpMessage\\x00'\n",
    "43848             b'\\x0e\\x00\\x00\\x00MovesThisTurn\\x00'\n",
    "43849    b'\\x17\\x00\\x00\\x00NonMoveActionsThisTurn\\x00'\n",
    "\n",
    "b'\\x06\\x00\\x00\\x00TTile\\x00\\x00\\x00\\x00\\x00\\x02\\x00\\x00\\x00X\\x00\\x00\\x00\\x00\\x00\\x0c\\x00\\x00\\x00IntProperty\\x00\\x00\\x00\\x00\\x00\\x04\\x00\\x00\\x00\\x00\\x00\\x00\\x00\\x00\\x00\\x00\\x00\\x02\\x00\\x00\\x00Y\\x00\\x00\\x00\\x00\\x00\\x0c\\x00\\x00\\x00IntProperty\\x00' TTile follows by X and Y and IntProperty"
   ]
  },
  {
   "cell_type": "code",
   "execution_count": 528,
   "metadata": {},
   "outputs": [],
   "source": [
    "class Seg:\n",
    "    \n",
    "    def __init__(self, index, record):\n",
    "        self.index = index\n",
    "        self.start = record.start()\n",
    "        self.end = record.end()\n",
    "        self.content = record.group()\n",
    "        self.magic = self.content[:4]\n",
    "        self.block_size = Save.bytes2int(self.content[4:8])\n",
    "        self.compressed_size = Save.bytes2int(self.content[8:12])\n",
    "        self.uncompressed_size = Save.bytes2int(self.content[12:16])\n",
    "        self.compressed_size2 = Save.bytes2int(self.content[16:20])\n",
    "        self.uncompressed_size2 = Save.bytes2int(self.content[20:24])\n",
    "        self.compressed = self.content[24:]\n",
    "        self.uncompressed = lzo.decompress(self.compressed, False, self.uncompressed_size)\n",
    "        self.summary = {'index' : self.index,\n",
    "                        'magic': self.magic,\n",
    "                        'block_size': self.block_size,\n",
    "                        'compressed_size': self.compressed_size,\n",
    "                        'compressed_size2': self.compressed_size2,\n",
    "                        'uncompressed_size': self.uncompressed_size,\n",
    "                        'uncompressed_size2': self.uncompressed_size2,\n",
    "                        'actual_compressed_length': len(self.compressed),\n",
    "                        'actual_uncompressed_length': len(self.uncompressed)}\n",
    "        \n",
    "    def search(self, keywords):\n",
    "        return pd.Series(dict([(k, [v.start() for v in re.finditer(k\n",
    "                                                                   ,self.uncompressed\n",
    "                                                                   ,flags=re.I|re.DOTALL)]) for k in keywords])\n",
    "                         ,name=self.index)\n",
    "\n",
    "class UPK:\n",
    "    \n",
    "    def __init__(self, segs):\n",
    "        self.segs = segs\n",
    "        self.contents = b''.join([s.uncompressed for s in self.segs])\n",
    "        self.frags = self.chop(self.contents)\n",
    "        \n",
    "    @staticmethod\n",
    "    def chop(barray):\n",
    "        frags = list()\n",
    "        pos_start = 0\n",
    "        pos_current = 0\n",
    "        array_length = len(barray)\n",
    "        while pos_current < array_length:\n",
    "            match = re.match(b'[^\\x00]\\x00\\x00\\x00[\\x20-\\x7e]+\\x00', barray[pos_current:], flags=re.I|re.DOTALL)\n",
    "            if match and len(match.group()) == Save.bytes2int(barray[pos_current:pos_current+4])+4:\n",
    "                if pos_start != pos_current:\n",
    "                    frags.append((pos_start, False, barray[pos_start:pos_current]))\n",
    "                frags.append((pos_current, True, match.group()[4:-1]))\n",
    "                pos_current = pos_current + match.end() - match.start()\n",
    "                pos_start = pos_current\n",
    "                continue\n",
    "            pos_current += 1\n",
    "        if pos_start != pos_current:\n",
    "            frags.append((pos_start, False, barray[pos_start:pos_current]))\n",
    "        df = pd.DataFrame(frags, columns=['Offset', 'isString', 'Bytes'])\n",
    "        df['Length'] = df['Bytes'].apply(len)\n",
    "        return df\n",
    "            \n",
    "        \n",
    "class Save:\n",
    "    \n",
    "    Resources = [b'Supplies', b'Income', b'Intel', b'Core', b'Elerium', b'Alloy', b'Contact', b'Power', b'Sci', b'Eng']\n",
    "    \n",
    "    @staticmethod\n",
    "    def int2bytes(i, length, byteorder='little'):\n",
    "        return i.to_bytes(length, byteorder=byteorder)\n",
    "\n",
    "    @staticmethod\n",
    "    def bytes2int(b, byteorder='little'):\n",
    "        return int.from_bytes(b, byteorder=byteorder)\n",
    "    \n",
    "    def __init__(self, filename):\n",
    "        self.filename = filename\n",
    "        with open(filename, 'rb') as s:\n",
    "            self.contents = s.read()\n",
    "        self.segs = self.find_segs()\n",
    "        self.header = self.contents[:self.segs[0].start]\n",
    "        self.upk = UPK(self.segs)\n",
    "            \n",
    "    def find_segs(self):\n",
    "        search = re.finditer(b'\\xc1\\x83\\\\x2a\\x9e.*?\\x11\\x00\\x00(?=\\xc1\\x83\\\\x2a\\x9e)', self.contents, flags=re.I|re.DOTALL)\n",
    "        return [Seg(index, _) for (index, _) in enumerate(search)]\n",
    "    \n",
    "    def search(self, keywords):\n",
    "        return pd.DataFrame([seg.search(keywords) for seg in self.segs])"
   ]
  },
  {
   "cell_type": "code",
   "execution_count": 527,
   "metadata": {},
   "outputs": [
    {
     "name": "stderr",
     "output_type": "stream",
     "text": [
      "/var/folders/ym/_y0kq9j91kxfsslrl2k8xvpc0000gn/T/ipykernel_15916/1316971845.py:15: DeprecationWarning: PY_SSIZE_T_CLEAN will be required for '#' formats\n",
      "  self.uncompressed = lzo.decompress(self.compressed, False, self.uncompressed_size)\n"
     ]
    }
   ],
   "source": [
    "s = Save(Source)"
   ]
  },
  {
   "cell_type": "code",
   "execution_count": 536,
   "metadata": {},
   "outputs": [],
   "source": [
    "value_df = s.upk.frags[s.upk.frags.isString==False]"
   ]
  },
  {
   "cell_type": "code",
   "execution_count": null,
   "metadata": {},
   "outputs": [],
   "source": []
  }
 ],
 "metadata": {
  "interpreter": {
   "hash": "616803b2f19e1e9bcbf5ac8abb36b7fd12ef6319f5b436273684431f9aa2d3e3"
  },
  "kernelspec": {
   "display_name": "Python 3.8.3 ('pyworks')",
   "language": "python",
   "name": "python3"
  },
  "language_info": {
   "codemirror_mode": {
    "name": "ipython",
    "version": 3
   },
   "file_extension": ".py",
   "mimetype": "text/x-python",
   "name": "python",
   "nbconvert_exporter": "python",
   "pygments_lexer": "ipython3",
   "version": "3.8.13"
  }
 },
 "nbformat": 4,
 "nbformat_minor": 4
}
