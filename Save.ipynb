{
 "cells": [
  {
   "cell_type": "code",
   "execution_count": 1,
   "metadata": {},
   "outputs": [
    {
     "ename": "ModuleNotFoundError",
     "evalue": "No module named 'lzo'",
     "output_type": "error",
     "traceback": [
      "\u001b[0;31m---------------------------------------------------------------------------\u001b[0m",
      "\u001b[0;31mModuleNotFoundError\u001b[0m                       Traceback (most recent call last)",
      "\u001b[1;32m/Users/CIDER/工作/Python程序/游戏/XCOM2/Save.ipynb Cell 1'\u001b[0m in \u001b[0;36m<module>\u001b[0;34m\u001b[0m\n\u001b[1;32m      <a href='vscode-notebook-cell:/Users/CIDER/%E5%B7%A5%E4%BD%9C/Python%E7%A8%8B%E5%BA%8F/%E6%B8%B8%E6%88%8F/XCOM2/Save.ipynb#ch0000000?line=3'>4</a>\u001b[0m \u001b[39mimport\u001b[39;00m \u001b[39mnumpy\u001b[39;00m \u001b[39mas\u001b[39;00m \u001b[39mnp\u001b[39;00m\n\u001b[1;32m      <a href='vscode-notebook-cell:/Users/CIDER/%E5%B7%A5%E4%BD%9C/Python%E7%A8%8B%E5%BA%8F/%E6%B8%B8%E6%88%8F/XCOM2/Save.ipynb#ch0000000?line=4'>5</a>\u001b[0m \u001b[39mimport\u001b[39;00m \u001b[39mre\u001b[39;00m\n\u001b[0;32m----> <a href='vscode-notebook-cell:/Users/CIDER/%E5%B7%A5%E4%BD%9C/Python%E7%A8%8B%E5%BA%8F/%E6%B8%B8%E6%88%8F/XCOM2/Save.ipynb#ch0000000?line=5'>6</a>\u001b[0m \u001b[39mimport\u001b[39;00m \u001b[39mlzo\u001b[39;00m\n",
      "\u001b[0;31mModuleNotFoundError\u001b[0m: No module named 'lzo'"
     ]
    }
   ],
   "source": [
    "import os\n",
    "import zlib\n",
    "import pandas as pd\n",
    "import numpy as np\n",
    "import re\n",
    "import lzo"
   ]
  },
  {
   "cell_type": "code",
   "execution_count": null,
   "metadata": {},
   "outputs": [
    {
     "ename": "",
     "evalue": "",
     "output_type": "error",
     "traceback": [
      "\u001b[1;31mFailed to start the Kernel. \n",
      "SyntaxError: invalid syntax. \n",
      "View Jupyter <a href='command:jupyter.viewOutput'>log</a> for further details."
     ]
    }
   ],
   "source": [
    "import os"
   ]
  },
  {
   "cell_type": "code",
   "execution_count": 2,
   "metadata": {},
   "outputs": [],
   "source": [
    "Source = r'save_1'"
   ]
  },
  {
   "cell_type": "code",
   "execution_count": 15,
   "metadata": {},
   "outputs": [],
   "source": [
    "class Seg:\n",
    "    \n",
    "    def __init__(self, index, record):\n",
    "        self.index = index\n",
    "        self.start = record.start()\n",
    "        self.end = record.end()\n",
    "        self.content = record.group()\n",
    "        self.magic = self.content[:4]\n",
    "        self.block_size = Save.bytes2int(self.content[4:8])\n",
    "        self.compressed_size = Save.bytes2int(self.content[8:12])\n",
    "        self.uncompressed_size = Save.bytes2int(self.content[12:16])\n",
    "        self.compressed_size2 = Save.bytes2int(self.content[16:20])\n",
    "        self.uncompressed_size2 = Save.bytes2int(self.content[20:24])\n",
    "        self.compressed = self.content[24:]\n",
    "        self.uncompressed = lzo.decompress(self.compressed, False, self.uncompressed_size)\n",
    "        self.summary = {'index' : self.index,\n",
    "                        'magic': self.magic,\n",
    "                        'block_size': self.block_size,\n",
    "                        'compressed_size': self.compressed_size,\n",
    "                        'compressed_size2': self.compressed_size2,\n",
    "                        'uncompressed_size': self.uncompressed_size,\n",
    "                        'uncompressed_size2': self.uncompressed_size2,\n",
    "                        'actual_compressed_length': len(self.compressed),\n",
    "                        'actual_uncompressed_length': len(self.uncompressed)}\n",
    "\n",
    "        \n",
    "class Save:\n",
    "    \n",
    "    @staticmethod\n",
    "    def int2bytes(i, length, byteorder='little'):\n",
    "        return i.to_bytes(length, byteorder=byteorder)\n",
    "\n",
    "    @staticmethod\n",
    "    def bytes2int(b, byteorder='little'):\n",
    "        return int.from_bytes(b, byteorder=byteorder)\n",
    "    \n",
    "    def __init__(self, filename):\n",
    "        self.filename = filename\n",
    "        with open(filename, 'rb') as s:\n",
    "            self.contents = s.read()\n",
    "        self.segs = self.find_segs()\n",
    "        self.header = self.contents[:self.segs[0].start]\n",
    "            \n",
    "    def find_segs(self):\n",
    "        search = re.finditer(b'\\xc1\\x83\\\\x2a\\x9e.*?\\x11\\x00\\x00(?=\\xc1\\x83\\\\x2a\\x9e)', self.contents, flags=re.I|re.DOTALL)\n",
    "        return [Seg(index, _) for (index, _) in enumerate(search)]"
   ]
  },
  {
   "cell_type": "code",
   "execution_count": 16,
   "metadata": {},
   "outputs": [
    {
     "name": "stderr",
     "output_type": "stream",
     "text": [
      "<ipython-input-15-9f77eb086fab>:15: DeprecationWarning: PY_SSIZE_T_CLEAN will be required for '#' formats\n",
      "  self.uncompressed = lzo.decompress(self.compressed, False, self.uncompressed_size)\n"
     ]
    }
   ],
   "source": [
    "s = Save(Source)"
   ]
  },
  {
   "cell_type": "code",
   "execution_count": 29,
   "metadata": {},
   "outputs": [
    {
     "data": {
      "text/plain": [
       "b'\\r\\x00m_TemplateName\\x00a\\x00\\rP\\x00p\\x01\\x05Property[\\x01\\x00\\x00\\x1b\\x97\\x00\\x00\\x00\\x13\\\\\\x00\\x0fDarkEvent_WildHuntS\\x02\\x00\\x00\\x07T\\x00\\x02Weigh\\xb9\\x01\\x0cX\\x01\\x01IntP*\\x15\\x01\\x04L\\x02i\\x00\\x05Q\\x00\\tL\\x00\\x05ObjectIDJ\\x01\\x00\\x00:\\xc0\\x00\\x02]\\x02\\x00\\x00\\x1aT\\x04\\x0ePreviousHistoryFrP\\x16\\x02IndexL\\x03<\\x04\\x01`\\x04\\n\\x05\\x00\\x00\\x00None\\x00\\x00\\x00\\x00\\x00\\x11\\x00\\x00'"
      ]
     },
     "execution_count": 29,
     "metadata": {},
     "output_type": "execute_result"
    }
   ],
   "source": [
    "s.segs[5].compressed"
   ]
  },
  {
   "cell_type": "code",
   "execution_count": null,
   "metadata": {},
   "outputs": [],
   "source": []
  }
 ],
 "metadata": {
  "kernelspec": {
   "display_name": "Python 3",
   "language": "python",
   "name": "python3"
  },
  "language_info": {
   "codemirror_mode": {
    "name": "ipython",
    "version": 3
   },
   "file_extension": ".py",
   "mimetype": "text/x-python",
   "name": "python",
   "nbconvert_exporter": "python",
   "pygments_lexer": "ipython3",
   "version": "3.9.10"
  }
 },
 "nbformat": 4,
 "nbformat_minor": 4
}
